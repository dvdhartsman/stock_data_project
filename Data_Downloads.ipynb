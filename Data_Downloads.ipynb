{
 "cells": [
  {
   "cell_type": "markdown",
   "id": "8b1972ea-0ac7-4b95-bb02-52f167bb281b",
   "metadata": {},
   "source": [
    "# API Calls and Database Creation\n",
    "\n",
    "### Attribution: [Data provided by Financial Modeling Prep](https://financialmodelingprep.com/developer/docs/), Yahoo! Finance"
   ]
  },
  {
   "cell_type": "code",
   "execution_count": 2,
   "id": "202d380a-73e3-4b8f-a271-0b521feb3d0f",
   "metadata": {},
   "outputs": [],
   "source": [
    "import yfinance as yf\n",
    "from urllib.request import urlopen\n",
    "import certifi\n",
    "import json\n",
    "from sqlalchemy import create_engine\n",
    "import psycopg2\n",
    "import numpy as np\n",
    "import pandas as pd\n",
    "import os\n",
    "import configparser"
   ]
  },
  {
   "cell_type": "markdown",
   "id": "14bd69e9-c48f-46d3-9d30-aa92c9fac1a9",
   "metadata": {},
   "source": [
    "### Tickers"
   ]
  },
  {
   "cell_type": "code",
   "execution_count": 2,
   "id": "54a06cfa-78d1-4200-837b-6ddfe46b812a",
   "metadata": {},
   "outputs": [],
   "source": [
    "# Retrieve Current S&P Stock Tickers - as of 08/22/2024\n",
    "url = 'https://en.wikipedia.org/wiki/List_of_S%26P_500_companies'\n",
    "sp500_tickers = pd.read_html(url)[0][\"Symbol\"].to_list()\n",
    "\n",
    "# Handling Errors from Wiki\n",
    "sp500_tickers.remove(\"BRK.B\")\n",
    "sp500_tickers.remove(\"BF.B\")\n",
    "sp500_tickers.extend([\"BRK-B\", \"BF-B\"])"
   ]
  },
  {
   "cell_type": "markdown",
   "id": "5a4f06ba-5732-4ce8-bb84-ee2786ad408c",
   "metadata": {},
   "source": [
    "### Yfinance API"
   ]
  },
  {
   "cell_type": "code",
   "execution_count": 3,
   "id": "76b1225f-c23b-4593-b8c9-e15ab572668d",
   "metadata": {},
   "outputs": [
    {
     "name": "stderr",
     "output_type": "stream",
     "text": [
      "[*********************100%%**********************]  503 of 503 completed\n"
     ]
    },
    {
     "name": "stdout",
     "output_type": "stream",
     "text": [
      "(206733, 8)\n"
     ]
    },
    {
     "data": {
      "text/html": [
       "<div>\n",
       "<style scoped>\n",
       "    .dataframe tbody tr th:only-of-type {\n",
       "        vertical-align: middle;\n",
       "    }\n",
       "\n",
       "    .dataframe tbody tr th {\n",
       "        vertical-align: top;\n",
       "    }\n",
       "\n",
       "    .dataframe thead th {\n",
       "        text-align: right;\n",
       "    }\n",
       "</style>\n",
       "<table border=\"1\" class=\"dataframe\">\n",
       "  <thead>\n",
       "    <tr style=\"text-align: right;\">\n",
       "      <th></th>\n",
       "      <th>Date</th>\n",
       "      <th>Ticker</th>\n",
       "      <th>Adj Close</th>\n",
       "      <th>Close</th>\n",
       "      <th>High</th>\n",
       "      <th>Low</th>\n",
       "      <th>Open</th>\n",
       "      <th>Volume</th>\n",
       "    </tr>\n",
       "  </thead>\n",
       "  <tbody>\n",
       "    <tr>\n",
       "      <th>0</th>\n",
       "      <td>2023-01-03</td>\n",
       "      <td>A</td>\n",
       "      <td>148.440598</td>\n",
       "      <td>150.039993</td>\n",
       "      <td>153.130005</td>\n",
       "      <td>148.470001</td>\n",
       "      <td>151.960007</td>\n",
       "      <td>1414300.0</td>\n",
       "    </tr>\n",
       "    <tr>\n",
       "      <th>1</th>\n",
       "      <td>2023-01-03</td>\n",
       "      <td>AAL</td>\n",
       "      <td>12.740000</td>\n",
       "      <td>12.740000</td>\n",
       "      <td>13.000000</td>\n",
       "      <td>12.530000</td>\n",
       "      <td>12.910000</td>\n",
       "      <td>21865100.0</td>\n",
       "    </tr>\n",
       "    <tr>\n",
       "      <th>2</th>\n",
       "      <td>2023-01-03</td>\n",
       "      <td>AAPL</td>\n",
       "      <td>123.904633</td>\n",
       "      <td>125.070000</td>\n",
       "      <td>130.899994</td>\n",
       "      <td>124.169998</td>\n",
       "      <td>130.279999</td>\n",
       "      <td>112117500.0</td>\n",
       "    </tr>\n",
       "    <tr>\n",
       "      <th>3</th>\n",
       "      <td>2023-01-03</td>\n",
       "      <td>ABBV</td>\n",
       "      <td>151.773148</td>\n",
       "      <td>162.380005</td>\n",
       "      <td>163.020004</td>\n",
       "      <td>160.809998</td>\n",
       "      <td>162.039993</td>\n",
       "      <td>4937500.0</td>\n",
       "    </tr>\n",
       "    <tr>\n",
       "      <th>4</th>\n",
       "      <td>2023-01-03</td>\n",
       "      <td>ABNB</td>\n",
       "      <td>84.900002</td>\n",
       "      <td>84.900002</td>\n",
       "      <td>88.139999</td>\n",
       "      <td>84.300003</td>\n",
       "      <td>87.385002</td>\n",
       "      <td>3901200.0</td>\n",
       "    </tr>\n",
       "  </tbody>\n",
       "</table>\n",
       "</div>"
      ],
      "text/plain": [
       "        Date Ticker   Adj Close       Close        High         Low  \\\n",
       "0 2023-01-03      A  148.440598  150.039993  153.130005  148.470001   \n",
       "1 2023-01-03    AAL   12.740000   12.740000   13.000000   12.530000   \n",
       "2 2023-01-03   AAPL  123.904633  125.070000  130.899994  124.169998   \n",
       "3 2023-01-03   ABBV  151.773148  162.380005  163.020004  160.809998   \n",
       "4 2023-01-03   ABNB   84.900002   84.900002   88.139999   84.300003   \n",
       "\n",
       "         Open       Volume  \n",
       "0  151.960007    1414300.0  \n",
       "1   12.910000   21865100.0  \n",
       "2  130.279999  112117500.0  \n",
       "3  162.039993    4937500.0  \n",
       "4   87.385002    3901200.0  "
      ]
     },
     "execution_count": 3,
     "metadata": {},
     "output_type": "execute_result"
    }
   ],
   "source": [
    "# Download and format the stock data without multi-index, \"Date\" column is currently stored as a datetime obj\n",
    "\n",
    "# Download using yfinance API\n",
    "df = yf.download(sp500_tickers, start=\"2023-01-01\", end=\"2024-08-22\", interval=\"1d\")\n",
    "\n",
    "# Formatting\n",
    "df.sort_index(axis=1, inplace=True)\n",
    "df = df.stack(future_stack=True).reset_index()  # future_stack required due to future deprecation\n",
    "df.columns.name = None\n",
    "\n",
    "# Visual Inspection - instead of multi-index, each stock shown for each day, future transformations require groupby([\"Ticker\").transform()\n",
    "print(df.shape)\n",
    "df.head()"
   ]
  },
  {
   "cell_type": "markdown",
   "id": "01bca974-27d2-48d7-afa3-5e99e91b1026",
   "metadata": {},
   "source": [
    "### Financial Modeling Prep"
   ]
  },
  {
   "cell_type": "code",
   "execution_count": 5,
   "id": "cdb347fc-8fbf-4e37-95d9-cd046b128148",
   "metadata": {},
   "outputs": [],
   "source": [
    "# FMP requires an API key, using my environment to protect the specific key\n",
    "api_key = os.getenv('STOCK_API_KEY')"
   ]
  },
  {
   "cell_type": "code",
   "execution_count": 22,
   "id": "821a5417-7dec-4359-8ad5-af447c5e961b",
   "metadata": {},
   "outputs": [
    {
     "data": {
      "text/plain": [
       "[{'symbol': 'AAPL',\n",
       "  'price': 225.31,\n",
       "  'beta': 1.244,\n",
       "  'volAvg': 64811409,\n",
       "  'mktCap': 3425635771000,\n",
       "  'lastDiv': 1,\n",
       "  'range': '164.08-237.23',\n",
       "  'changes': 0.78,\n",
       "  'companyName': 'Apple Inc.',\n",
       "  'currency': 'USD',\n",
       "  'cik': '0000320193',\n",
       "  'isin': 'US0378331005',\n",
       "  'cusip': '037833100',\n",
       "  'exchange': 'NASDAQ Global Select',\n",
       "  'exchangeShortName': 'NASDAQ',\n",
       "  'industry': 'Consumer Electronics',\n",
       "  'website': 'https://www.apple.com',\n",
       "  'description': 'Apple Inc. designs, manufactures, and markets smartphones, personal computers, tablets, wearables, and accessories worldwide. The company offers iPhone, a line of smartphones; Mac, a line of personal computers; iPad, a line of multi-purpose tablets; and wearables, home, and accessories comprising AirPods, Apple TV, Apple Watch, Beats products, and HomePod. It also provides AppleCare support and cloud services; and operates various platforms, including the App Store that allow customers to discover and download applications and digital content, such as books, music, video, games, and podcasts. In addition, the company offers various services, such as Apple Arcade, a game subscription service; Apple Fitness+, a personalized fitness service; Apple Music, which offers users a curated listening experience with on-demand radio stations; Apple News+, a subscription news and magazine service; Apple TV+, which offers exclusive original content; Apple Card, a co-branded credit card; and Apple Pay, a cashless payment service, as well as licenses its intellectual property. The company serves consumers, and small and mid-sized businesses; and the education, enterprise, and government markets. It distributes third-party applications for its products through the App Store. The company also sells its products through its retail and online stores, and direct sales force; and third-party cellular network carriers, wholesalers, retailers, and resellers. Apple Inc. was incorporated in 1977 and is headquartered in Cupertino, California.',\n",
       "  'ceo': 'Mr. Timothy D. Cook',\n",
       "  'sector': 'Technology',\n",
       "  'country': 'US',\n",
       "  'fullTimeEmployees': '161000',\n",
       "  'phone': '408 996 1010',\n",
       "  'address': 'One Apple Park Way',\n",
       "  'city': 'Cupertino',\n",
       "  'state': 'CA',\n",
       "  'zip': '95014',\n",
       "  'dcfDiff': 67.89483,\n",
       "  'dcf': 156.6351719407122,\n",
       "  'image': 'https://financialmodelingprep.com/image-stock/AAPL.png',\n",
       "  'ipoDate': '1980-12-12',\n",
       "  'defaultImage': False,\n",
       "  'isEtf': False,\n",
       "  'isActivelyTrading': True,\n",
       "  'isAdr': False,\n",
       "  'isFund': False}]"
      ]
     },
     "execution_count": 22,
     "metadata": {},
     "output_type": "execute_result"
    }
   ],
   "source": [
    "from urllib.request import urlopen\n",
    "import certifi\n",
    "import json\n",
    "import ssl\n",
    "\n",
    "\n",
    "def get_jsonparsed_data(url):\n",
    "    \"\"\"\n",
    "    The cafile=certifi.where() part ensures that urlopen uses the certificate bundle provided by certifi \n",
    "    to verify the SSL certificate of the URL you're trying to access. Then read the api response and return it in json-form\n",
    "\n",
    "    Args:\n",
    "    ------------\n",
    "    url:str | url with api key to successfully download information\n",
    "\n",
    "    Returns:\n",
    "    ------------\n",
    "    json.loads(data):json | json object with the results of the query\n",
    "\n",
    "    Raises:\n",
    "    ------------\n",
    "    HTTPError | if any part of the query string is inaccurate, users must have their own API key \"HTTP Error 401: Unauthorized\"\n",
    "\n",
    "    Example : \n",
    "    url = (\"https://financialmodelingprep.com/api/v3/search?query=AA&apikey=YOUR_API_KEY\")\n",
    "    get_jsonparsed_data(url)\n",
    "    \"\"\"\n",
    "\n",
    "    # Create a custom SSL context\n",
    "    context = ssl.create_default_context(cafile=certifi.where())\n",
    "    \n",
    "    # Initialize response from FMP\n",
    "    response = urlopen(url, context=context)  \n",
    "    \n",
    "    # Parse the response\n",
    "    data = response.read().decode(\"utf-8\")  # read the API response\n",
    "    \n",
    "    # Return as JSON object\n",
    "    return json.loads(data)\n",
    "\n",
    "# Demonstrate returned object for AAPL\n",
    "\n",
    "## Options:\n",
    "# \"https://financialmodelingprep.com/api/v3/profile/AAPL?apikey=YOUR_API_KEY\"  -> company profile!\n",
    "# \"https://financialmodelingprep.com/api/v3/search?query=AAPL&apikey={api_key}\" -> symbol|name|currency|exchange ONLY\n",
    "\n",
    "# Profile\n",
    "url = (f\"https://financialmodelingprep.com/api/v3/profile/AAPL?apikey={api_key}\")\n",
    "all_background = get_jsonparsed_data(url)\n",
    "all_background"
   ]
  },
  {
   "cell_type": "code",
   "execution_count": 23,
   "id": "0dbb8322-062e-42c4-9976-b151b9f46733",
   "metadata": {},
   "outputs": [],
   "source": [
    "import json\n",
    "import ssl\n",
    "import certifi\n",
    "import psycopg2\n",
    "from urllib.request import urlopen\n",
    "\n",
    "\n",
    "# Function to insert data into PostgreSQL table\n",
    "def insert_data_to_postgres(connection, stock_profile):\n",
    "    with connection.cursor() as cursor:\n",
    "        insert_query = \"\"\"\n",
    "        INSERT INTO sp500_profiles (symbol, company_name, sector, industry, price, description, website)\n",
    "        VALUES (%s, %s, %s, %s, %s, %s)\n",
    "        \"\"\"\n",
    "        cursor.execute(insert_query, (\n",
    "            stock_profile.get(\"symbol\"),\n",
    "            stock_profile.get(\"companyName\"),\n",
    "            stock_profile.get(\"sector\"),\n",
    "            stock_profile.get(\"industry\"),\n",
    "            stock_profile.get(\"price\"),\n",
    "            stock_profile.get(\"description\"),\n",
    "            stock_profile.get(\"website\"),\n",
    "        ))\n",
    "        connection.commit()"
   ]
  },
  {
   "cell_type": "code",
   "execution_count": 5,
   "id": "80243b85-dd12-4c5c-bead-9183817f94aa",
   "metadata": {},
   "outputs": [],
   "source": [
    "# Load environment variables from .env file\n",
    "# load_dotenv()\n",
    "\n",
    "db_name = os.getenv('stock_db')\n",
    "# db_user = os.getenv('DB_USER')\n",
    "db_password = os.getenv('db_password')\n",
    "db_host = os.getenv('db_host')\n",
    "# db_port = os.getenv('DB_PORT')\n",
    "\n",
    "def create_sp500_table():\n",
    "    with psycopg2.connect(\n",
    "        dbname=db_name,\n",
    "        user=db_user,\n",
    "        password=db_password,\n",
    "        host=db_host,\n",
    "        port=db_port\n",
    "    ) as connection:\n",
    "        with connection.cursor() as cursor:\n",
    "            create_table_query = \"\"\"\n",
    "            CREATE TABLE IF NOT EXISTS sp500_profiles (\n",
    "                id SERIAL PRIMARY KEY,\n",
    "                symbol VARCHAR(10),\n",
    "                company_name TEXT,\n",
    "                sector TEXT,\n",
    "                industry TEXT,\n",
    "                price FLOAT,\n",
    "                description TEXT,\n",
    "                website TEXT\n",
    "            );\n",
    "            \"\"\"\n",
    "            cursor.execute(create_table_query)\n",
    "            connection.commit()\n",
    "            print(\"Table sp500_profiles created successfully.\")\n",
    "\n",
    "# create_sp500_table()\n"
   ]
  },
  {
   "cell_type": "code",
   "execution_count": 8,
   "id": "fb98563e-c7fa-4596-b5b4-853cc678880c",
   "metadata": {},
   "outputs": [
    {
     "data": {
      "text/plain": [
       "('localhost', 'Babypanda0726$', None)"
      ]
     },
     "execution_count": 8,
     "metadata": {},
     "output_type": "execute_result"
    }
   ],
   "source": [
    "db_host, db_password, db_name"
   ]
  },
  {
   "cell_type": "code",
   "execution_count": null,
   "id": "9e7ab748-3bd2-468a-9d66-e3b324165ff6",
   "metadata": {},
   "outputs": [],
   "source": [
    "# List of S&P 500 stock symbols (use your list here)\n",
    "sp500_tickers\n",
    "\n",
    "# Initialize PostgreSQL connection\n",
    "connection = psycopg2.connect(\n",
    "    dbname=\"your_database\",\n",
    "    user=\"your_user\",\n",
    "    password=\"your_password\",\n",
    "    host=\"localhost\",\n",
    "    port=\"5432\"\n",
    ")\n",
    "\n",
    "# Iterate over the list of S&P 500 stocks\n",
    "api_key = \"YOUR_API_KEY\"  # Your FMP API key\n",
    "for symbol in sp500_tickers:\n",
    "    url = f\"https://financialmodelingprep.com/api/v3/profile/{symbol}?apikey={api_key}\"\n",
    "    stock_data = get_jsonparsed_data(url)\n",
    "\n",
    "    # Ensure the response is a list and contains data\n",
    "    if stock_data and isinstance(stock_data, list):\n",
    "        stock_profile = stock_data[0]  # The API returns a list with one profile\n",
    "        insert_data_to_postgres(connection, stock_profile)\n",
    "\n",
    "# Close the PostgreSQL connection\n",
    "connection.close()"
   ]
  }
 ],
 "metadata": {
  "kernelspec": {
   "display_name": "omdena",
   "language": "python",
   "name": "omdena"
  },
  "language_info": {
   "codemirror_mode": {
    "name": "ipython",
    "version": 3
   },
   "file_extension": ".py",
   "mimetype": "text/x-python",
   "name": "python",
   "nbconvert_exporter": "python",
   "pygments_lexer": "ipython3",
   "version": "3.10.14"
  }
 },
 "nbformat": 4,
 "nbformat_minor": 5
}
