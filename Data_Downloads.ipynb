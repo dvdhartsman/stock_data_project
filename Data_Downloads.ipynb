{
 "cells": [
  {
   "cell_type": "markdown",
   "id": "8b1972ea-0ac7-4b95-bb02-52f167bb281b",
   "metadata": {},
   "source": [
    "# API Calls and Database Creation\n",
    "\n",
    "### Attribution: [Data provided by Financial Modeling Prep](https://financialmodelingprep.com/developer/docs/), Yahoo! Finance"
   ]
  },
  {
   "cell_type": "code",
   "execution_count": 1,
   "id": "202d380a-73e3-4b8f-a271-0b521feb3d0f",
   "metadata": {},
   "outputs": [],
   "source": [
    "import yfinance as yf\n",
    "from urllib.request import urlopen\n",
    "import certifi\n",
    "import json\n",
    "from sqlalchemy import create_engine\n",
    "import psycopg2\n",
    "import numpy as np\n",
    "import pandas as pd\n",
    "import os"
   ]
  },
  {
   "cell_type": "markdown",
   "id": "14bd69e9-c48f-46d3-9d30-aa92c9fac1a9",
   "metadata": {},
   "source": [
    "### Tickers"
   ]
  },
  {
   "cell_type": "code",
   "execution_count": 2,
   "id": "54a06cfa-78d1-4200-837b-6ddfe46b812a",
   "metadata": {},
   "outputs": [],
   "source": [
    "# Retrieve Current S&P Stock Tickers - as of 08/22/2024\n",
    "url = 'https://en.wikipedia.org/wiki/List_of_S%26P_500_companies'\n",
    "sp500_tickers = pd.read_html(url)[0][\"Symbol\"].to_list()\n",
    "\n",
    "# Handling Errors from Wiki\n",
    "sp500_tickers.remove(\"BRK.B\")\n",
    "sp500_tickers.remove(\"BF.B\")\n",
    "sp500_tickers.extend([\"BRK-B\", \"BF-B\"])"
   ]
  },
  {
   "cell_type": "markdown",
   "id": "5a4f06ba-5732-4ce8-bb84-ee2786ad408c",
   "metadata": {},
   "source": [
    "### Yfinance API"
   ]
  },
  {
   "cell_type": "code",
   "execution_count": 4,
   "id": "76b1225f-c23b-4593-b8c9-e15ab572668d",
   "metadata": {},
   "outputs": [
    {
     "name": "stderr",
     "output_type": "stream",
     "text": [
      "[*********************100%%**********************]  503 of 503 completed\n"
     ]
    },
    {
     "name": "stdout",
     "output_type": "stream",
     "text": [
      "(206733, 8)\n"
     ]
    },
    {
     "data": {
      "text/html": [
       "<div>\n",
       "<style scoped>\n",
       "    .dataframe tbody tr th:only-of-type {\n",
       "        vertical-align: middle;\n",
       "    }\n",
       "\n",
       "    .dataframe tbody tr th {\n",
       "        vertical-align: top;\n",
       "    }\n",
       "\n",
       "    .dataframe thead th {\n",
       "        text-align: right;\n",
       "    }\n",
       "</style>\n",
       "<table border=\"1\" class=\"dataframe\">\n",
       "  <thead>\n",
       "    <tr style=\"text-align: right;\">\n",
       "      <th></th>\n",
       "      <th>Date</th>\n",
       "      <th>Ticker</th>\n",
       "      <th>Adj Close</th>\n",
       "      <th>Close</th>\n",
       "      <th>High</th>\n",
       "      <th>Low</th>\n",
       "      <th>Open</th>\n",
       "      <th>Volume</th>\n",
       "    </tr>\n",
       "  </thead>\n",
       "  <tbody>\n",
       "    <tr>\n",
       "      <th>0</th>\n",
       "      <td>2023-01-03</td>\n",
       "      <td>A</td>\n",
       "      <td>148.440598</td>\n",
       "      <td>150.039993</td>\n",
       "      <td>153.130005</td>\n",
       "      <td>148.470001</td>\n",
       "      <td>151.960007</td>\n",
       "      <td>1414300.0</td>\n",
       "    </tr>\n",
       "    <tr>\n",
       "      <th>1</th>\n",
       "      <td>2023-01-03</td>\n",
       "      <td>AAL</td>\n",
       "      <td>12.740000</td>\n",
       "      <td>12.740000</td>\n",
       "      <td>13.000000</td>\n",
       "      <td>12.530000</td>\n",
       "      <td>12.910000</td>\n",
       "      <td>21865100.0</td>\n",
       "    </tr>\n",
       "    <tr>\n",
       "      <th>2</th>\n",
       "      <td>2023-01-03</td>\n",
       "      <td>AAPL</td>\n",
       "      <td>123.904625</td>\n",
       "      <td>125.070000</td>\n",
       "      <td>130.899994</td>\n",
       "      <td>124.169998</td>\n",
       "      <td>130.279999</td>\n",
       "      <td>112117500.0</td>\n",
       "    </tr>\n",
       "    <tr>\n",
       "      <th>3</th>\n",
       "      <td>2023-01-03</td>\n",
       "      <td>ABBV</td>\n",
       "      <td>151.773148</td>\n",
       "      <td>162.380005</td>\n",
       "      <td>163.020004</td>\n",
       "      <td>160.809998</td>\n",
       "      <td>162.039993</td>\n",
       "      <td>4937500.0</td>\n",
       "    </tr>\n",
       "    <tr>\n",
       "      <th>4</th>\n",
       "      <td>2023-01-03</td>\n",
       "      <td>ABNB</td>\n",
       "      <td>84.900002</td>\n",
       "      <td>84.900002</td>\n",
       "      <td>88.139999</td>\n",
       "      <td>84.300003</td>\n",
       "      <td>87.385002</td>\n",
       "      <td>3901200.0</td>\n",
       "    </tr>\n",
       "  </tbody>\n",
       "</table>\n",
       "</div>"
      ],
      "text/plain": [
       "        Date Ticker   Adj Close       Close        High         Low  \\\n",
       "0 2023-01-03      A  148.440598  150.039993  153.130005  148.470001   \n",
       "1 2023-01-03    AAL   12.740000   12.740000   13.000000   12.530000   \n",
       "2 2023-01-03   AAPL  123.904625  125.070000  130.899994  124.169998   \n",
       "3 2023-01-03   ABBV  151.773148  162.380005  163.020004  160.809998   \n",
       "4 2023-01-03   ABNB   84.900002   84.900002   88.139999   84.300003   \n",
       "\n",
       "         Open       Volume  \n",
       "0  151.960007    1414300.0  \n",
       "1   12.910000   21865100.0  \n",
       "2  130.279999  112117500.0  \n",
       "3  162.039993    4937500.0  \n",
       "4   87.385002    3901200.0  "
      ]
     },
     "execution_count": 4,
     "metadata": {},
     "output_type": "execute_result"
    }
   ],
   "source": [
    "# Download and format the stock data without multi-index, \"Date\" column is currently stored as a datetime obj\n",
    "\n",
    "# Download using yfinance API\n",
    "df = yf.download(sp500_tickers, start=\"2023-01-01\", end=\"2024-08-22\", interval=\"1d\")\n",
    "\n",
    "# Formatting\n",
    "df.sort_index(axis=1, inplace=True)\n",
    "df = df.stack(future_stack=True).reset_index()  # future_stack required due to future deprecation\n",
    "df.columns.name = None\n",
    "\n",
    "# Visual Inspection - instead of multi-index, each stock shown for each day, future transformations require groupby([\"Ticker\").transform()\n",
    "print(df.shape)\n",
    "df.head()"
   ]
  },
  {
   "cell_type": "markdown",
   "id": "01bca974-27d2-48d7-afa3-5e99e91b1026",
   "metadata": {},
   "source": [
    "### Financial Modeling Prep"
   ]
  },
  {
   "cell_type": "code",
   "execution_count": 7,
   "id": "cdb347fc-8fbf-4e37-95d9-cd046b128148",
   "metadata": {},
   "outputs": [
    {
     "name": "stdout",
     "output_type": "stream",
     "text": [
      "None\n"
     ]
    }
   ],
   "source": [
    "api_key = os.getenv('STOCK_API_KEY')\n",
    "print(api_key)"
   ]
  },
  {
   "cell_type": "code",
   "execution_count": 8,
   "id": "821a5417-7dec-4359-8ad5-af447c5e961b",
   "metadata": {},
   "outputs": [],
   "source": [
    "from urllib.request import urlopen\n",
    "import certifi\n",
    "import json\n",
    "\n",
    "def get_jsonparsed_data(url):\n",
    "    \"\"\"\n",
    "    The cafile=certifi.where() part ensures that urlopen uses the certificate bundle provided by certifi \n",
    "    to verify the SSL certificate of the URL you're trying to access. Then read the api response and return it in json-form\n",
    "\n",
    "    Args:\n",
    "    ------------\n",
    "    url:str | url with api key to successfully download information\n",
    "\n",
    "    Returns:\n",
    "    ------------\n",
    "    json.loads(data):json | json object with the results of the query\n",
    "\n",
    "    Raises:\n",
    "    ------------\n",
    "    HTTPError | if any part of the query string is inaccurate, users must have their own API key \"HTTP Error 401: Unauthorized\"\n",
    "\n",
    "    Example : \n",
    "    url = (\"https://financialmodelingprep.com/api/v3/search?query=AA&apikey=YOUR_API_KEY\")\n",
    "    get_jsonparsed_data(url)\n",
    "    \"\"\"\n",
    "    response = urlopen(url, cafile=certifi.where())  \n",
    "    data = response.read().decode(\"utf-8\")  # read the API response\n",
    "    return json.loads(data)\n",
    "\n",
    "url = (\"https://financialmodelingprep.com/api/v3/search?query=AA&apikey=YOUR_API_KEY\")\n",
    "print(get_jsonparsed_data(url))"
   ]
  },
  {
   "cell_type": "code",
   "execution_count": null,
   "id": "68bf2ca1-5f90-4e2e-a548-749249e1e176",
   "metadata": {},
   "outputs": [],
   "source": []
  }
 ],
 "metadata": {
  "kernelspec": {
   "display_name": "omdena",
   "language": "python",
   "name": "omdena"
  },
  "language_info": {
   "codemirror_mode": {
    "name": "ipython",
    "version": 3
   },
   "file_extension": ".py",
   "mimetype": "text/x-python",
   "name": "python",
   "nbconvert_exporter": "python",
   "pygments_lexer": "ipython3",
   "version": "3.10.14"
  }
 },
 "nbformat": 4,
 "nbformat_minor": 5
}
